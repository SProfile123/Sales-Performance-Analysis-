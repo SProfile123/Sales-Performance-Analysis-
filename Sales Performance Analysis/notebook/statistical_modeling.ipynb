import pandas as pd
import numpy as np

# Set random seed for reproducibility
np.random.seed(42)

# Simulate data
n = 100
data = pd.DataFrame({
    'marketing_spend': np.random.normal(5000, 1000, n),
    'price': np.random.normal(100, 10, n),
    'region': np.random.choice(['North', 'South', 'East', 'West'], n),
    'units_sold': np.random.randint(50, 500, n)
})

# Revenue calculation
data['revenue'] = data['units_sold'] * data['price']
data.head()

# Compute correlation between numerical variables
correlation_matrix = data[['marketing_spend', 'price', 'units_sold', 'revenue']].corr()
correlation_matrix

import statsmodels.api as sm

# Define independent variables (with constant)
X = data[['marketing_spend', 'price']]
X = sm.add_constant(X)

# Dependent variable
y = data['revenue']

# Fit OLS model
model = sm.OLS(y, X).fit()

# Display regression results
model.summary()

import seaborn as sns
import matplotlib.pyplot as plt

# Pairplot of all numeric features
sns.pairplot(data[['marketing_spend', 'price', 'units_sold', 'revenue']])
plt.suptitle('Pairwise Relationships Between Sales Variables', y=1.02)
plt.show()
